{
 "cells": [
  {
   "cell_type": "markdown",
   "metadata": {},
   "source": [
    "# Tarea 2\n",
    "\n",
    "\n",
    "# Control de versiones - GIT\n",
    "\n",
    "Un sistema de control de versiones es un herramienta que permite monitorear , rastrear y ver cambios a lo largo que se avanza en la linea del tiempo con un proyecto o codigo de programcion, etc. \n",
    "\n",
    "\n",
    "## GIT :\n",
    "Git es un sistema de control de versiones bado en una abstraccion de Snapshots, lo cual nos permite guardar los cambios en un momento preciso del tiempo, y poder regresar y a cualquier punto de snapshot que se haya tomado. \n",
    " En GIT un archivo es llamado \"Blob\" , que es la data en bytes, \n",
    " y un \"tree\" son los directorios que mapean con nombre a otros tree blobs, y nos sirve para saber en que punto del snapshot estamos. \n",
    " \n",
    " Esto nos permite movernos entre diferentes snapshots, un snapshot padre es cuando de el se desprende otros snapshots, esto no es lineal , puede de un padre pueden salir muchos snapshots. \n",
    " \n",
    " \n",
    " En git lo que nos indica en que snapshot estamos es HEAD,  y  un blob tiene el hash que es la direccion a memoria donde se encuetra esa  data del archivo que guardo el snapshot. \n",
    " \n",
    "### Staging area\n",
    "Esta seccion nos brinda un paso previo antes de guardar los cambios y generar un snapshot, en git al hacer un cabmio en el archivo, blob, y se quiere hacer un snapshot, no se realiza  inmediatamente , sino se carga y se anuncia que se guardara esos cambios antes de realizar el snapshot, esto nos trae ventajas,  ya que se pueden hacer varias previos y no guardar todos los pasos o varios cambios juntos, sino solo los cambio sque se desean. \n",
    "\n",
    " ### Nomenclatura\n",
    " Git tiene su propia nomenclatura.  y  la veremos a continuacion conjutno a un ejemplo de nomencaltura. \n",
    " \n",
    " \n",
    " "
   ]
  },
  {
   "cell_type": "code",
   "execution_count": null,
   "metadata": {},
   "outputs": [],
   "source": []
  },
  {
   "cell_type": "markdown",
   "metadata": {},
   "source": []
  },
  {
   "cell_type": "markdown",
   "metadata": {},
   "source": [
    "# Ejemplo \n",
    "\n",
    "En este ejemplo vamos a estar dentro de la carpeta Llamada test dentro de la carpeta Tarea 02  y tenemos  un archivo llamado testGit.txt  y este tiene un titulo llamado \"Inicio de Archivo de Test de GIT\"  y listaremos los archivos que estan en el folder.\n",
    "\n",
    "y luego veremos el contedido del archivo testgit.txt\n",
    "\n",
    "\n",
    "\n"
   ]
  },
  {
   "cell_type": "code",
   "execution_count": 15,
   "metadata": {},
   "outputs": [
    {
     "name": "stdout",
     "output_type": "stream",
     "text": [
      "Microsoft Windows [Versi¢n 10.0.18362.1198]\r\n",
      "(c) 2019 Microsoft Corporation. Todos los derechos reservados.\r\n",
      "\r\n",
      "C:\\Users\\migcardona\\OneDrive\\Documentos\\DataScience\\Ciencia de Datos en Python\\Tareas\\Tarea 02>cd test\n",
      "\r\n",
      "C:\\Users\\migcardona\\OneDrive\\Documentos\\DataScience\\Ciencia de Datos en Python\\Tareas\\Tarea 02\\test>dir\n",
      " El volumen de la unidad C no tiene etiqueta.\r\n",
      " El n£mero de serie del volumen es: AEC1-5CF3\r\n",
      "\r\n",
      " Directorio de C:\\Users\\migcardona\\OneDrive\\Documentos\\DataScience\\Ciencia de Datos en Python\\Tareas\\Tarea 02\\test\r\n",
      "\r\n",
      "10/02/2021  17:36    <DIR>          .\r\n",
      "10/02/2021  17:36    <DIR>          ..\r\n",
      "10/02/2021  17:29                22 testgit.txt\r\n",
      "               1 archivos             22 bytes\r\n",
      "               2 dirs  27 287 408 640 bytes libres\r\n",
      "\r\n",
      "C:\\Users\\migcardona\\OneDrive\\Documentos\\DataScience\\Ciencia de Datos en Python\\Tareas\\Tarea 02\\test>type testgit.txt\n",
      "Archivo de Test de GIT\r\n",
      "C:\\Users\\migcardona\\OneDrive\\Documentos\\DataScience\\Ciencia de Datos en Python\\Tareas\\Tarea 02\\test>\n",
      "C:\\Users\\migcardona\\OneDrive\\Documentos\\DataScience\\Ciencia de Datos en Python\\Tareas\\Tarea 02\\test>"
     ]
    }
   ],
   "source": [
    "%%cmd\n",
    "cd test\n",
    "type testgit.txt\n",
    "\n"
   ]
  },
  {
   "cell_type": "markdown",
   "metadata": {},
   "source": [
    "### Paso\n",
    "Ahora inicializaremos GIT,  luego veremos el status (donde vermoes que branch estamos) , log donde mostraremos que no hay archivos que agregar agregar a commit o archivos modficados"
   ]
  },
  {
   "cell_type": "code",
   "execution_count": 19,
   "metadata": {
    "scrolled": true
   },
   "outputs": [
    {
     "name": "stdout",
     "output_type": "stream",
     "text": [
      "Microsoft Windows [Versi¢n 10.0.18362.1198]\r\n",
      "(c) 2019 Microsoft Corporation. Todos los derechos reservados.\r\n",
      "\r\n",
      "C:\\Users\\migcardona\\OneDrive\\Documentos\\DataScience\\Ciencia de Datos en Python\\Tareas\\Tarea 02>cd test\n",
      "\r\n",
      "C:\\Users\\migcardona\\OneDrive\\Documentos\\DataScience\\Ciencia de Datos en Python\\Tareas\\Tarea 02\\test>git init \n",
      "Reinitialized existing Git repository in C:/Users/migcardona/OneDrive/Documentos/DataScience/Ciencia de Datos en Python/Tareas/Tarea 02/test/.git/\n",
      "\r\n",
      "C:\\Users\\migcardona\\OneDrive\\Documentos\\DataScience\\Ciencia de Datos en Python\\Tareas\\Tarea 02\\test>git status\n",
      "On branch master\n",
      "\n",
      "No commits yet\n",
      "\n",
      "Untracked files:\n",
      "  (use \"git add <file>...\" to include in what will be committed)\n",
      "\ttestgit.txt\n",
      "\n",
      "nothing added to commit but untracked files present (use \"git add\" to track)\n",
      "\r\n",
      "C:\\Users\\migcardona\\OneDrive\\Documentos\\DataScience\\Ciencia de Datos en Python\\Tareas\\Tarea 02\\test>git log\n",
      "\r\n",
      "C:\\Users\\migcardona\\OneDrive\\Documentos\\DataScience\\Ciencia de Datos en Python\\Tareas\\Tarea 02\\test>"
     ]
    },
    {
     "name": "stderr",
     "output_type": "stream",
     "text": [
      "fatal: your current branch 'master' does not have any commits yet\n"
     ]
    }
   ],
   "source": [
    "%%cmd\n",
    "cd test\n",
    "git init \n",
    "git status\n",
    "git log"
   ]
  },
  {
   "cell_type": "markdown",
   "metadata": {},
   "source": [
    "### Paso\n",
    "Ahora realizaremos un cambio , agregaremos una linea en el archivo de texto \"1. primer snapshot  snapshot con hash\"  y lo motraremos como esta.\n",
    "\n",
    "lugeo ejecutaremos un git status para ver como esta el archivo, y vermoes que nos indica que esta modficado , no esta en staging ni para commit. \n"
   ]
  },
  {
   "cell_type": "code",
   "execution_count": 26,
   "metadata": {
    "scrolled": false
   },
   "outputs": [
    {
     "name": "stdout",
     "output_type": "stream",
     "text": [
      "Microsoft Windows [Versi¢n 10.0.18362.1198]\r\n",
      "(c) 2019 Microsoft Corporation. Todos los derechos reservados.\r\n",
      "\r\n",
      "C:\\Users\\migcardona\\OneDrive\\Documentos\\DataScience\\Ciencia de Datos en Python\\Tareas\\Tarea 02>cd test\n",
      "\r\n",
      "C:\\Users\\migcardona\\OneDrive\\Documentos\\DataScience\\Ciencia de Datos en Python\\Tareas\\Tarea 02\\test>type testgit.txt\n",
      "Archivo de Test de GIT\r\n",
      "1. primer snapshot  snapshot con hash\r\n",
      "C:\\Users\\migcardona\\OneDrive\\Documentos\\DataScience\\Ciencia de Datos en Python\\Tareas\\Tarea 02\\test>git status\n",
      "On branch master\n",
      "\n",
      "No commits yet\n",
      "\n",
      "Untracked files:\n",
      "  (use \"git add <file>...\" to include in what will be committed)\n",
      "\ttestgit.txt\n",
      "\n",
      "nothing added to commit but untracked files present (use \"git add\" to track)\n",
      "\r\n",
      "C:\\Users\\migcardona\\OneDrive\\Documentos\\DataScience\\Ciencia de Datos en Python\\Tareas\\Tarea 02\\test>"
     ]
    }
   ],
   "source": [
    "%%cmd\n",
    "cd test\n",
    "type testgit.txt\n",
    "git status"
   ]
  },
  {
   "cell_type": "markdown",
   "metadata": {},
   "source": [
    "\n",
    "### Paso:\n",
    "luego agregarmoes la linea Git add  testgit.txt  y lueg un git status para mostrar que ya esta en staging  y que ya estan listos para ser commit "
   ]
  },
  {
   "cell_type": "code",
   "execution_count": 28,
   "metadata": {
    "scrolled": true
   },
   "outputs": [
    {
     "name": "stdout",
     "output_type": "stream",
     "text": [
      "Microsoft Windows [Versi¢n 10.0.18362.1198]\r\n",
      "(c) 2019 Microsoft Corporation. Todos los derechos reservados.\r\n",
      "\r\n",
      "C:\\Users\\migcardona\\OneDrive\\Documentos\\DataScience\\Ciencia de Datos en Python\\Tareas\\Tarea 02>cd test\n",
      "\r\n",
      "C:\\Users\\migcardona\\OneDrive\\Documentos\\DataScience\\Ciencia de Datos en Python\\Tareas\\Tarea 02\\test>git add testgit.txt\n",
      "\r\n",
      "C:\\Users\\migcardona\\OneDrive\\Documentos\\DataScience\\Ciencia de Datos en Python\\Tareas\\Tarea 02\\test>git status\n",
      "On branch master\n",
      "\n",
      "No commits yet\n",
      "\n",
      "Changes to be committed:\n",
      "  (use \"git rm --cached <file>...\" to unstage)\n",
      "\tnew file:   testgit.txt\n",
      "\n",
      "\r\n",
      "C:\\Users\\migcardona\\OneDrive\\Documentos\\DataScience\\Ciencia de Datos en Python\\Tareas\\Tarea 02\\test>"
     ]
    }
   ],
   "source": [
    "%%cmd\n",
    "cd test\n",
    "git add testgit.txt\n",
    "git status"
   ]
  },
  {
   "cell_type": "markdown",
   "metadata": {},
   "source": [
    "### Paso:\n",
    "ahora haremos el commit, agregandole un mensaje \"este es el primer snapshot con hash\" , dentro del mismo brach Master\n",
    "\n",
    "pondremos un git log para mostrar los cambios "
   ]
  },
  {
   "cell_type": "code",
   "execution_count": 30,
   "metadata": {
    "scrolled": true
   },
   "outputs": [
    {
     "name": "stdout",
     "output_type": "stream",
     "text": [
      "Microsoft Windows [Versi¢n 10.0.18362.1198]\r\n",
      "(c) 2019 Microsoft Corporation. Todos los derechos reservados.\r\n",
      "\r\n",
      "C:\\Users\\migcardona\\OneDrive\\Documentos\\DataScience\\Ciencia de Datos en Python\\Tareas\\Tarea 02>cd test\n",
      "\r\n",
      "C:\\Users\\migcardona\\OneDrive\\Documentos\\DataScience\\Ciencia de Datos en Python\\Tareas\\Tarea 02\\test>git commit testgit.txt -m \"este es el primer snapshot con hash\"\n",
      "On branch master\n",
      "nothing to commit, working tree clean\n",
      "\r\n",
      "C:\\Users\\migcardona\\OneDrive\\Documentos\\DataScience\\Ciencia de Datos en Python\\Tareas\\Tarea 02\\test>git log\n",
      "commit f3d9b958463c074481695ebdf0fb876704612f06\n",
      "Author: macde58 <78329506+macde58@users.noreply.github.com>\n",
      "Date:   Wed Feb 10 17:47:18 2021 -0600\n",
      "\n",
      "    este es el primer snapshot con hash\n",
      "\r\n",
      "C:\\Users\\migcardona\\OneDrive\\Documentos\\DataScience\\Ciencia de Datos en Python\\Tareas\\Tarea 02\\test>"
     ]
    }
   ],
   "source": [
    "%%cmd\n",
    "cd test\n",
    "git commit testgit.txt -m \"este es el primer snapshot con hash\"\n",
    "git log"
   ]
  },
  {
   "cell_type": "markdown",
   "metadata": {},
   "source": [
    "ahora agregamos una linea mas en el archivo de texto, \"2. Segundo snapshot con hash, en master\"\n",
    "lo mostraremos el testgit.txt\n",
    "git status ,para ver que hay cambios en el archivo, \n",
    "git add y commit para agregar otro snapshot, \n",
    "luego mostraremos el log para mostrar los dos cambios "
   ]
  },
  {
   "cell_type": "code",
   "execution_count": 33,
   "metadata": {},
   "outputs": [
    {
     "name": "stdout",
     "output_type": "stream",
     "text": [
      "Microsoft Windows [Versi¢n 10.0.18362.1198]\r\n",
      "(c) 2019 Microsoft Corporation. Todos los derechos reservados.\r\n",
      "\r\n",
      "C:\\Users\\migcardona\\OneDrive\\Documentos\\DataScience\\Ciencia de Datos en Python\\Tareas\\Tarea 02>cd test\n",
      "\r\n",
      "C:\\Users\\migcardona\\OneDrive\\Documentos\\DataScience\\Ciencia de Datos en Python\\Tareas\\Tarea 02\\test>type testgit.txt\n",
      "Archivo de Test de GIT\r\n",
      "1. primer snapshot  snapshot con hash\r\n",
      "2. Segundo snapshot con hash, en master\r\n",
      "C:\\Users\\migcardona\\OneDrive\\Documentos\\DataScience\\Ciencia de Datos en Python\\Tareas\\Tarea 02\\test>git status\n",
      "On branch master\n",
      "Changes not staged for commit:\n",
      "  (use \"git add <file>...\" to update what will be committed)\n",
      "  (use \"git restore <file>...\" to discard changes in working directory)\n",
      "\tmodified:   testgit.txt\n",
      "\n",
      "no changes added to commit (use \"git add\" and/or \"git commit -a\")\n",
      "\r\n",
      "C:\\Users\\migcardona\\OneDrive\\Documentos\\DataScience\\Ciencia de Datos en Python\\Tareas\\Tarea 02\\test>git add testgit.txt\n",
      "\r\n",
      "C:\\Users\\migcardona\\OneDrive\\Documentos\\DataScience\\Ciencia de Datos en Python\\Tareas\\Tarea 02\\test>git commit testgit.txt -m \"2do snapshot con hash en master\"\n",
      "[master e323fd4] 2do snapshot con hash en master\n",
      " 1 file changed, 2 insertions(+), 1 deletion(-)\n",
      "\r\n",
      "C:\\Users\\migcardona\\OneDrive\\Documentos\\DataScience\\Ciencia de Datos en Python\\Tareas\\Tarea 02\\test>git log\n",
      "commit e323fd41f69248bd7720f633da3977af8d36671d\n",
      "Author: macde58 <78329506+macde58@users.noreply.github.com>\n",
      "Date:   Wed Feb 10 17:52:24 2021 -0600\n",
      "\n",
      "    2do snapshot con hash en master\n",
      "\n",
      "commit f3d9b958463c074481695ebdf0fb876704612f06\n",
      "Author: macde58 <78329506+macde58@users.noreply.github.com>\n",
      "Date:   Wed Feb 10 17:47:18 2021 -0600\n",
      "\n",
      "    este es el primer snapshot con hash\n",
      "\r\n",
      "C:\\Users\\migcardona\\OneDrive\\Documentos\\DataScience\\Ciencia de Datos en Python\\Tareas\\Tarea 02\\test>"
     ]
    }
   ],
   "source": [
    "%%cmd\n",
    "cd test\n",
    "type testgit.txt\n",
    "git status\n",
    "git add testgit.txt\n",
    "git commit testgit.txt -m \"2do snapshot con hash en master\"\n",
    "git log"
   ]
  },
  {
   "cell_type": "markdown",
   "metadata": {},
   "source": [
    "### Paso:\n",
    "ahora mostraremos en arbol los dos snapshots.  vemos de cual vienes y en cual estamos apuntando ,\n",
    "\n",
    "luego mostraremos el contenido de testgit.txt"
   ]
  },
  {
   "cell_type": "code",
   "execution_count": 35,
   "metadata": {
    "scrolled": false
   },
   "outputs": [
    {
     "name": "stdout",
     "output_type": "stream",
     "text": [
      "Microsoft Windows [Versi¢n 10.0.18362.1198]\r\n",
      "(c) 2019 Microsoft Corporation. Todos los derechos reservados.\r\n",
      "\r\n",
      "C:\\Users\\migcardona\\OneDrive\\Documentos\\DataScience\\Ciencia de Datos en Python\\Tareas\\Tarea 02>cd test\n",
      "\r\n",
      "C:\\Users\\migcardona\\OneDrive\\Documentos\\DataScience\\Ciencia de Datos en Python\\Tareas\\Tarea 02\\test>git log --all --graph --decorate\n",
      "* commit e323fd41f69248bd7720f633da3977af8d36671d (HEAD -> master)\n",
      "| Author: macde58 <78329506+macde58@users.noreply.github.com>\n",
      "| Date:   Wed Feb 10 17:52:24 2021 -0600\n",
      "| \n",
      "|     2do snapshot con hash en master\n",
      "| \n",
      "* commit f3d9b958463c074481695ebdf0fb876704612f06\n",
      "  Author: macde58 <78329506+macde58@users.noreply.github.com>\n",
      "  Date:   Wed Feb 10 17:47:18 2021 -0600\n",
      "  \n",
      "      este es el primer snapshot con hash\n",
      "\r\n",
      "C:\\Users\\migcardona\\OneDrive\\Documentos\\DataScience\\Ciencia de Datos en Python\\Tareas\\Tarea 02\\test>type testgit.txt\n",
      "Archivo de Test de GIT\r\n",
      "1. primer snapshot  snapshot con hash\r\n",
      "2. Segundo snapshot con hash, en master\r\n",
      "C:\\Users\\migcardona\\OneDrive\\Documentos\\DataScience\\Ciencia de Datos en Python\\Tareas\\Tarea 02\\test>"
     ]
    }
   ],
   "source": [
    "%%cmd\n",
    "cd test\n",
    "git log --all --graph --decorate\n",
    "type testgit.txt"
   ]
  },
  {
   "cell_type": "markdown",
   "metadata": {},
   "source": [
    "### Paso:\n",
    "ahora tenemos dos commit, dos snapshots,  el mas reciente donde esta el head, que es donde nos encontramos con el hash e323fd41f69248bd7720, que tiene el archivo con dos cambios,con dos puntos \"1. y 2.\"\n",
    "\n",
    "y el commit f3d9b958463c0744, que tiene el el archivo con el punto \"1.\"\n",
    "\n",
    "ahora movermos el head al primer commit y mostraremos el archivo que tiene solo el primer punto \n",
    "y lo mostramos \n",
    "\n",
    "al ver el tree vemos que head esta en el primer branch\n",
    "\n"
   ]
  },
  {
   "cell_type": "code",
   "execution_count": 47,
   "metadata": {},
   "outputs": [
    {
     "name": "stdout",
     "output_type": "stream",
     "text": [
      "Microsoft Windows [Versi¢n 10.0.18362.1198]\r\n",
      "(c) 2019 Microsoft Corporation. Todos los derechos reservados.\r\n",
      "\r\n",
      "C:\\Users\\migcardona\\OneDrive\\Documentos\\DataScience\\Ciencia de Datos en Python\\Tareas\\Tarea 02>cd test\n",
      "\r\n",
      "C:\\Users\\migcardona\\OneDrive\\Documentos\\DataScience\\Ciencia de Datos en Python\\Tareas\\Tarea 02\\test>git checkout f3d9b958463c074\n",
      "\r\n",
      "C:\\Users\\migcardona\\OneDrive\\Documentos\\DataScience\\Ciencia de Datos en Python\\Tareas\\Tarea 02\\test>type testgit.txt\n",
      "Archivo de Test de GIT\r\n",
      "1. primer snapshot  snapshot con hash\r\n",
      "C:\\Users\\migcardona\\OneDrive\\Documentos\\DataScience\\Ciencia de Datos en Python\\Tareas\\Tarea 02\\test>git log --all --graph --decorate\n",
      "* commit e323fd41f69248bd7720f633da3977af8d36671d (master, f3d9b958463c0744)\n",
      "| Author: macde58 <78329506+macde58@users.noreply.github.com>\n",
      "| Date:   Wed Feb 10 17:52:24 2021 -0600\n",
      "| \n",
      "|     2do snapshot con hash en master\n",
      "| \n",
      "* commit f3d9b958463c074481695ebdf0fb876704612f06 (HEAD)\n",
      "  Author: macde58 <78329506+macde58@users.noreply.github.com>\n",
      "  Date:   Wed Feb 10 17:47:18 2021 -0600\n",
      "  \n",
      "      este es el primer snapshot con hash\n",
      "\r\n",
      "C:\\Users\\migcardona\\OneDrive\\Documentos\\DataScience\\Ciencia de Datos en Python\\Tareas\\Tarea 02\\test>"
     ]
    },
    {
     "name": "stderr",
     "output_type": "stream",
     "text": [
      "HEAD is now at f3d9b95 este es el primer snapshot con hash\n"
     ]
    }
   ],
   "source": [
    "%%cmd\n",
    "cd test\n",
    "git checkout f3d9b958463c074\n",
    "type testgit.txt\n",
    "git log --all --graph --decorate"
   ]
  },
  {
   "cell_type": "markdown",
   "metadata": {},
   "source": [
    "### Paso:\n",
    "ahora regressaremos al ultmo commit realizado , y motramos que el HEAD esta en este, y mostramos el archivo, tendra las lineas de los puntos \"1. y 2.\""
   ]
  },
  {
   "cell_type": "code",
   "execution_count": 48,
   "metadata": {},
   "outputs": [
    {
     "name": "stdout",
     "output_type": "stream",
     "text": [
      "Microsoft Windows [Versi¢n 10.0.18362.1198]\r\n",
      "(c) 2019 Microsoft Corporation. Todos los derechos reservados.\r\n",
      "\r\n",
      "C:\\Users\\migcardona\\OneDrive\\Documentos\\DataScience\\Ciencia de Datos en Python\\Tareas\\Tarea 02>cd test\n",
      "\r\n",
      "C:\\Users\\migcardona\\OneDrive\\Documentos\\DataScience\\Ciencia de Datos en Python\\Tareas\\Tarea 02\\test>git checkout e323fd41f69248bd\n",
      "\r\n",
      "C:\\Users\\migcardona\\OneDrive\\Documentos\\DataScience\\Ciencia de Datos en Python\\Tareas\\Tarea 02\\test>git log --all --graph --decorate\n",
      "* commit e323fd41f69248bd7720f633da3977af8d36671d (HEAD, master, f3d9b958463c0744)\n",
      "| Author: macde58 <78329506+macde58@users.noreply.github.com>\n",
      "| Date:   Wed Feb 10 17:52:24 2021 -0600\n",
      "| \n",
      "|     2do snapshot con hash en master\n",
      "| \n",
      "* commit f3d9b958463c074481695ebdf0fb876704612f06\n",
      "  Author: macde58 <78329506+macde58@users.noreply.github.com>\n",
      "  Date:   Wed Feb 10 17:47:18 2021 -0600\n",
      "  \n",
      "      este es el primer snapshot con hash\n",
      "\r\n",
      "C:\\Users\\migcardona\\OneDrive\\Documentos\\DataScience\\Ciencia de Datos en Python\\Tareas\\Tarea 02\\test>type testgit.txt\n",
      "Archivo de Test de GIT\r\n",
      "1. primer snapshot  snapshot con hash\r\n",
      "2. Segundo snapshot con hash, en master\r\n",
      "C:\\Users\\migcardona\\OneDrive\\Documentos\\DataScience\\Ciencia de Datos en Python\\Tareas\\Tarea 02\\test>"
     ]
    },
    {
     "name": "stderr",
     "output_type": "stream",
     "text": [
      "Previous HEAD position was f3d9b95 este es el primer snapshot con hash\n",
      "HEAD is now at e323fd4 2do snapshot con hash en master\n"
     ]
    }
   ],
   "source": [
    "%%cmd\n",
    "cd test\n",
    "git checkout e323fd41f69248bd\n",
    "git log --all --graph --decorate\n",
    "type testgit.txt"
   ]
  },
  {
   "cell_type": "markdown",
   "metadata": {},
   "source": [
    "### Paso:\n",
    "Ahora crearemos un branch llamado \"snap01\"\n",
    "mostraremos el arbol y vermos que sta al mimos nivel que el master, \n",
    "luego nos moveremos al branch snap01 y veremos que el HEAD esta en el snap01"
   ]
  },
  {
   "cell_type": "code",
   "execution_count": 49,
   "metadata": {},
   "outputs": [
    {
     "name": "stdout",
     "output_type": "stream",
     "text": [
      "Microsoft Windows [Versi¢n 10.0.18362.1198]\r\n",
      "(c) 2019 Microsoft Corporation. Todos los derechos reservados.\r\n",
      "\r\n",
      "C:\\Users\\migcardona\\OneDrive\\Documentos\\DataScience\\Ciencia de Datos en Python\\Tareas\\Tarea 02>cd test\n",
      "\r\n",
      "C:\\Users\\migcardona\\OneDrive\\Documentos\\DataScience\\Ciencia de Datos en Python\\Tareas\\Tarea 02\\test>git branch snap01\n",
      "\r\n",
      "C:\\Users\\migcardona\\OneDrive\\Documentos\\DataScience\\Ciencia de Datos en Python\\Tareas\\Tarea 02\\test>git log --all --graph --decorate\n",
      "* commit e323fd41f69248bd7720f633da3977af8d36671d (HEAD, snap01, master, f3d9b958463c0744)\n",
      "| Author: macde58 <78329506+macde58@users.noreply.github.com>\n",
      "| Date:   Wed Feb 10 17:52:24 2021 -0600\n",
      "| \n",
      "|     2do snapshot con hash en master\n",
      "| \n",
      "* commit f3d9b958463c074481695ebdf0fb876704612f06\n",
      "  Author: macde58 <78329506+macde58@users.noreply.github.com>\n",
      "  Date:   Wed Feb 10 17:47:18 2021 -0600\n",
      "  \n",
      "      este es el primer snapshot con hash\n",
      "\r\n",
      "C:\\Users\\migcardona\\OneDrive\\Documentos\\DataScience\\Ciencia de Datos en Python\\Tareas\\Tarea 02\\test>git checkout snap01\n",
      "\r\n",
      "C:\\Users\\migcardona\\OneDrive\\Documentos\\DataScience\\Ciencia de Datos en Python\\Tareas\\Tarea 02\\test>git log --all --graph --decorate\n",
      "* commit e323fd41f69248bd7720f633da3977af8d36671d (HEAD -> snap01, master, f3d9b958463c0744)\n",
      "| Author: macde58 <78329506+macde58@users.noreply.github.com>\n",
      "| Date:   Wed Feb 10 17:52:24 2021 -0600\n",
      "| \n",
      "|     2do snapshot con hash en master\n",
      "| \n",
      "* commit f3d9b958463c074481695ebdf0fb876704612f06\n",
      "  Author: macde58 <78329506+macde58@users.noreply.github.com>\n",
      "  Date:   Wed Feb 10 17:47:18 2021 -0600\n",
      "  \n",
      "      este es el primer snapshot con hash\n",
      "\r\n",
      "C:\\Users\\migcardona\\OneDrive\\Documentos\\DataScience\\Ciencia de Datos en Python\\Tareas\\Tarea 02\\test>"
     ]
    },
    {
     "name": "stderr",
     "output_type": "stream",
     "text": [
      "Switched to branch 'snap01'\n"
     ]
    }
   ],
   "source": [
    "%%cmd\n",
    "cd test\n",
    "git branch snap01\n",
    "git log --all --graph --decorate\n",
    "git checkout snap01\n",
    "git log --all --graph --decorate\n"
   ]
  },
  {
   "cell_type": "markdown",
   "metadata": {},
   "source": [
    "### Paso:\n",
    "ahora agregaremos el punto 3. al texto con un tenxto que diga: \"punto de control de branch snap 01\" y lo mostramos \n",
    "luego vermoes que en el git status nos nuetra que hay un cambio en el archivo "
   ]
  },
  {
   "cell_type": "code",
   "execution_count": 52,
   "metadata": {},
   "outputs": [
    {
     "name": "stdout",
     "output_type": "stream",
     "text": [
      "Microsoft Windows [Versi¢n 10.0.18362.1198]\r\n",
      "(c) 2019 Microsoft Corporation. Todos los derechos reservados.\r\n",
      "\r\n",
      "C:\\Users\\migcardona\\OneDrive\\Documentos\\DataScience\\Ciencia de Datos en Python\\Tareas\\Tarea 02>cd test\n",
      "\r\n",
      "C:\\Users\\migcardona\\OneDrive\\Documentos\\DataScience\\Ciencia de Datos en Python\\Tareas\\Tarea 02\\test>type testgit.txt\n",
      "Archivo de Test de GIT\r\n",
      "1. primer snapshot  snapshot con hash\r\n",
      "2. Segundo snapshot con hash, en master\r\n",
      "3. punto de control de branch snap 01\r\n",
      "C:\\Users\\migcardona\\OneDrive\\Documentos\\DataScience\\Ciencia de Datos en Python\\Tareas\\Tarea 02\\test>git status\n",
      "On branch snap01\n",
      "Changes not staged for commit:\n",
      "  (use \"git add <file>...\" to update what will be committed)\n",
      "  (use \"git restore <file>...\" to discard changes in working directory)\n",
      "\tmodified:   testgit.txt\n",
      "\n",
      "no changes added to commit (use \"git add\" and/or \"git commit -a\")\n",
      "\r\n",
      "C:\\Users\\migcardona\\OneDrive\\Documentos\\DataScience\\Ciencia de Datos en Python\\Tareas\\Tarea 02\\test>\n",
      "C:\\Users\\migcardona\\OneDrive\\Documentos\\DataScience\\Ciencia de Datos en Python\\Tareas\\Tarea 02\\test>"
     ]
    }
   ],
   "source": [
    "%%cmd\n",
    "cd test\n",
    "type testgit.txt\n",
    "git status\n",
    "\n"
   ]
  },
  {
   "cell_type": "markdown",
   "metadata": {},
   "source": [
    "### Paso:\n",
    "ahora moveremos los cambmios de staging y haremos el commit sobre branch snap 01, \n",
    "mostraremos el tree"
   ]
  },
  {
   "cell_type": "code",
   "execution_count": 56,
   "metadata": {
    "scrolled": true
   },
   "outputs": [
    {
     "name": "stdout",
     "output_type": "stream",
     "text": [
      "Microsoft Windows [Versi¢n 10.0.18362.1198]\r\n",
      "(c) 2019 Microsoft Corporation. Todos los derechos reservados.\r\n",
      "\r\n",
      "C:\\Users\\migcardona\\OneDrive\\Documentos\\DataScience\\Ciencia de Datos en Python\\Tareas\\Tarea 02>cd test\n",
      "\r\n",
      "C:\\Users\\migcardona\\OneDrive\\Documentos\\DataScience\\Ciencia de Datos en Python\\Tareas\\Tarea 02\\test>git add testgit.txt\n",
      "\r\n",
      "C:\\Users\\migcardona\\OneDrive\\Documentos\\DataScience\\Ciencia de Datos en Python\\Tareas\\Tarea 02\\test>git status\n",
      "On branch snap01\n",
      "Changes to be committed:\n",
      "  (use \"git restore --staged <file>...\" to unstage)\n",
      "\tmodified:   testgit.txt\n",
      "\n",
      "\r\n",
      "C:\\Users\\migcardona\\OneDrive\\Documentos\\DataScience\\Ciencia de Datos en Python\\Tareas\\Tarea 02\\test>git commit testgit.txt -m \"commit de branch snap01\"\n",
      "[snap01 4bba5bc] commit de branch snap01\n",
      " 1 file changed, 1 insertion(+), 1 deletion(-)\n",
      "\r\n",
      "C:\\Users\\migcardona\\OneDrive\\Documentos\\DataScience\\Ciencia de Datos en Python\\Tareas\\Tarea 02\\test>git log --all --graph --decorate\n",
      "* commit 4bba5bc74aaecdbb1dd35f0d0be5a6771ed7bb05 (HEAD -> snap01)\n",
      "| Author: macde58 <78329506+macde58@users.noreply.github.com>\n",
      "| Date:   Wed Feb 10 18:18:44 2021 -0600\n",
      "| \n",
      "|     commit de branch snap01\n",
      "| \n",
      "* commit 096c3bd26d99cc4c89db9465b2562cf8be19cc3c\n",
      "| Author: macde58 <78329506+macde58@users.noreply.github.com>\n",
      "| Date:   Wed Feb 10 18:17:14 2021 -0600\n",
      "| \n",
      "|     commit de branch snap01\n",
      "| \n",
      "* commit e323fd41f69248bd7720f633da3977af8d36671d (master, f3d9b958463c0744)\n",
      "| Author: macde58 <78329506+macde58@users.noreply.github.com>\n",
      "| Date:   Wed Feb 10 17:52:24 2021 -0600\n",
      "| \n",
      "|     2do snapshot con hash en master\n",
      "| \n",
      "* commit f3d9b958463c074481695ebdf0fb876704612f06\n",
      "  Author: macde58 <78329506+macde58@users.noreply.github.com>\n",
      "  Date:   Wed Feb 10 17:47:18 2021 -0600\n",
      "  \n",
      "      este es el primer snapshot con hash\n",
      "\r\n",
      "C:\\Users\\migcardona\\OneDrive\\Documentos\\DataScience\\Ciencia de Datos en Python\\Tareas\\Tarea 02\\test>\n",
      "C:\\Users\\migcardona\\OneDrive\\Documentos\\DataScience\\Ciencia de Datos en Python\\Tareas\\Tarea 02\\test>"
     ]
    }
   ],
   "source": [
    "%%cmd\n",
    "cd test\n",
    "git add testgit.txt\n",
    "git status\n",
    "git commit testgit.txt -m \"commit de branch snap01\"\n",
    "git log --all --graph --decorate\n",
    "\n"
   ]
  },
  {
   "cell_type": "markdown",
   "metadata": {},
   "source": [
    "aqui mostramos los cambios entre el branch snap01 y el master"
   ]
  },
  {
   "cell_type": "code",
   "execution_count": 57,
   "metadata": {},
   "outputs": [
    {
     "name": "stdout",
     "output_type": "stream",
     "text": [
      "Microsoft Windows [Versi¢n 10.0.18362.1198]\r\n",
      "(c) 2019 Microsoft Corporation. Todos los derechos reservados.\r\n",
      "\r\n",
      "C:\\Users\\migcardona\\OneDrive\\Documentos\\DataScience\\Ciencia de Datos en Python\\Tareas\\Tarea 02>cd test\n",
      "\r\n",
      "C:\\Users\\migcardona\\OneDrive\\Documentos\\DataScience\\Ciencia de Datos en Python\\Tareas\\Tarea 02\\test>git diff master\n",
      "diff --git a/testgit.txt b/testgit.txt\n",
      "index 8ffa2b1..81a4f9d 100644\n",
      "--- a/testgit.txt\n",
      "+++ b/testgit.txt\n",
      "@@ -1,3 +1,4 @@\n",
      " Archivo de Test de GIT\n",
      " 1. primer snapshot  snapshot con hash\n",
      "-2. Segundo snapshot con hash, en master\n",
      "\\ No newline at end of file\n",
      "+2. Segundo snapshot con hash, en master\n",
      "+3. punto de control de branch snap 01-\n",
      "\\ No newline at end of file\n",
      "\r\n",
      "C:\\Users\\migcardona\\OneDrive\\Documentos\\DataScience\\Ciencia de Datos en Python\\Tareas\\Tarea 02\\test>"
     ]
    }
   ],
   "source": [
    "%%cmd\n",
    "cd test\n",
    "git diff master"
   ]
  },
  {
   "cell_type": "markdown",
   "metadata": {},
   "source": [
    "### Paso:\n",
    "ahora agregaremos un brach llamado Rama01, creandola y moviendonos a ella con el comando git checkout -b \n",
    "agregaremos el punto 4. al arhcivo testgit.txt  \"4. puunto de division de branch rama 01\"\n",
    "mostramos archivo de text\n",
    "Guardaremos el commit , mostraremos que el HEAD  esta en  branch Rama01\n",
    "mostramos la diferencia entre los branch Rama01 y Snap01\n",
    " "
   ]
  },
  {
   "cell_type": "code",
   "execution_count": 58,
   "metadata": {},
   "outputs": [
    {
     "name": "stdout",
     "output_type": "stream",
     "text": [
      "Microsoft Windows [Versi¢n 10.0.18362.1198]\r\n",
      "(c) 2019 Microsoft Corporation. Todos los derechos reservados.\r\n",
      "\r\n",
      "C:\\Users\\migcardona\\OneDrive\\Documentos\\DataScience\\Ciencia de Datos en Python\\Tareas\\Tarea 02>cd test\n",
      "\r\n",
      "C:\\Users\\migcardona\\OneDrive\\Documentos\\DataScience\\Ciencia de Datos en Python\\Tareas\\Tarea 02\\test>git checkout -b Rama01\n",
      "\r\n",
      "C:\\Users\\migcardona\\OneDrive\\Documentos\\DataScience\\Ciencia de Datos en Python\\Tareas\\Tarea 02\\test>type testgit.txt\n",
      "Archivo de Test de GIT\r\n",
      "1. primer snapshot  snapshot con hash\r\n",
      "2. Segundo snapshot con hash, en master\r\n",
      "3. punto de control de branch snap 01-\r\n",
      "4. puunto de division de branch rama 01\r\n",
      "C:\\Users\\migcardona\\OneDrive\\Documentos\\DataScience\\Ciencia de Datos en Python\\Tareas\\Tarea 02\\test>git status\n",
      "On branch Rama01\n",
      "Changes not staged for commit:\n",
      "  (use \"git add <file>...\" to update what will be committed)\n",
      "  (use \"git restore <file>...\" to discard changes in working directory)\n",
      "\tmodified:   testgit.txt\n",
      "\n",
      "no changes added to commit (use \"git add\" and/or \"git commit -a\")\n",
      "\r\n",
      "C:\\Users\\migcardona\\OneDrive\\Documentos\\DataScience\\Ciencia de Datos en Python\\Tareas\\Tarea 02\\test>git add testgit.txt\n",
      "\r\n",
      "C:\\Users\\migcardona\\OneDrive\\Documentos\\DataScience\\Ciencia de Datos en Python\\Tareas\\Tarea 02\\test>git commit testgit.txt -m \"snapshot de branch Rama01\"\n",
      "[Rama01 ce0fbfe] snapshot de branch Rama01\n",
      " 1 file changed, 2 insertions(+), 1 deletion(-)\n",
      "\r\n",
      "C:\\Users\\migcardona\\OneDrive\\Documentos\\DataScience\\Ciencia de Datos en Python\\Tareas\\Tarea 02\\test>git log --all --graph --decorate\n",
      "* commit ce0fbfebaeed81c1876eefd42ad0a89acf0512e3 (HEAD -> Rama01)\n",
      "| Author: macde58 <78329506+macde58@users.noreply.github.com>\n",
      "| Date:   Wed Feb 10 18:28:37 2021 -0600\n",
      "| \n",
      "|     snapshot de branch Rama01\n",
      "| \n",
      "* commit 4bba5bc74aaecdbb1dd35f0d0be5a6771ed7bb05 (snap01)\n",
      "| Author: macde58 <78329506+macde58@users.noreply.github.com>\n",
      "| Date:   Wed Feb 10 18:18:44 2021 -0600\n",
      "| \n",
      "|     commit de branch snap01\n",
      "| \n",
      "* commit 096c3bd26d99cc4c89db9465b2562cf8be19cc3c\n",
      "| Author: macde58 <78329506+macde58@users.noreply.github.com>\n",
      "| Date:   Wed Feb 10 18:17:14 2021 -0600\n",
      "| \n",
      "|     commit de branch snap01\n",
      "| \n",
      "* commit e323fd41f69248bd7720f633da3977af8d36671d (master, f3d9b958463c0744)\n",
      "| Author: macde58 <78329506+macde58@users.noreply.github.com>\n",
      "| Date:   Wed Feb 10 17:52:24 2021 -0600\n",
      "| \n",
      "|     2do snapshot con hash en master\n",
      "| \n",
      "* commit f3d9b958463c074481695ebdf0fb876704612f06\n",
      "  Author: macde58 <78329506+macde58@users.noreply.github.com>\n",
      "  Date:   Wed Feb 10 17:47:18 2021 -0600\n",
      "  \n",
      "      este es el primer snapshot con hash\n",
      "\r\n",
      "C:\\Users\\migcardona\\OneDrive\\Documentos\\DataScience\\Ciencia de Datos en Python\\Tareas\\Tarea 02\\test>git diff snap01\n",
      "diff --git a/testgit.txt b/testgit.txt\n",
      "index 81a4f9d..fc5a457 100644\n",
      "--- a/testgit.txt\n",
      "+++ b/testgit.txt\n",
      "@@ -1,4 +1,5 @@\n",
      " Archivo de Test de GIT\n",
      " 1. primer snapshot  snapshot con hash\n",
      " 2. Segundo snapshot con hash, en master\n",
      "-3. punto de control de branch snap 01-\n",
      "\\ No newline at end of file\n",
      "+3. punto de control de branch snap 01-\n",
      "+4. puunto de division de branch rama 01\n",
      "\\ No newline at end of file\n",
      "\r\n",
      "C:\\Users\\migcardona\\OneDrive\\Documentos\\DataScience\\Ciencia de Datos en Python\\Tareas\\Tarea 02\\test>"
     ]
    },
    {
     "name": "stderr",
     "output_type": "stream",
     "text": [
      "Switched to a new branch 'Rama01'\n"
     ]
    }
   ],
   "source": [
    "%%cmd\n",
    "cd test\n",
    "git checkout -b Rama01\n",
    "type testgit.txt\n",
    "git status\n",
    "git add testgit.txt\n",
    "git commit testgit.txt -m \"snapshot de branch Rama01\"\n",
    "git log --all --graph --decorate\n",
    "git diff snap01"
   ]
  },
  {
   "cell_type": "markdown",
   "metadata": {},
   "source": [
    " ### Paso:\n",
    " crearemos otro branch llamado Rama02 y nos movemos alli \n",
    "ahora agregamos una linea de punto 5. , ahora \"commit de Rama 02\", mostramos archivo\n",
    "hacemos un git status\n",
    "y hacemos el add y el commit sobre branch Rama02, \n",
    "mostramos el archivo  \n",
    "y mostramos el tree de commit\n"
   ]
  },
  {
   "cell_type": "code",
   "execution_count": 59,
   "metadata": {},
   "outputs": [
    {
     "name": "stdout",
     "output_type": "stream",
     "text": [
      "Microsoft Windows [Versi¢n 10.0.18362.1198]\r\n",
      "(c) 2019 Microsoft Corporation. Todos los derechos reservados.\r\n",
      "\r\n",
      "C:\\Users\\migcardona\\OneDrive\\Documentos\\DataScience\\Ciencia de Datos en Python\\Tareas\\Tarea 02>cd test\n",
      "\r\n",
      "C:\\Users\\migcardona\\OneDrive\\Documentos\\DataScience\\Ciencia de Datos en Python\\Tareas\\Tarea 02\\test>git branch Rama02\n",
      "\r\n",
      "C:\\Users\\migcardona\\OneDrive\\Documentos\\DataScience\\Ciencia de Datos en Python\\Tareas\\Tarea 02\\test>"
     ]
    }
   ],
   "source": [
    "%%cmd\n",
    "cd test\n",
    "git branch Rama02\n"
   ]
  },
  {
   "cell_type": "code",
   "execution_count": 61,
   "metadata": {},
   "outputs": [
    {
     "name": "stdout",
     "output_type": "stream",
     "text": [
      "Microsoft Windows [Versi¢n 10.0.18362.1198]\r\n",
      "(c) 2019 Microsoft Corporation. Todos los derechos reservados.\r\n",
      "\r\n",
      "C:\\Users\\migcardona\\OneDrive\\Documentos\\DataScience\\Ciencia de Datos en Python\\Tareas\\Tarea 02>cd test\n",
      "\r\n",
      "C:\\Users\\migcardona\\OneDrive\\Documentos\\DataScience\\Ciencia de Datos en Python\\Tareas\\Tarea 02\\test>git checkout Rama02\n",
      "\r\n",
      "C:\\Users\\migcardona\\OneDrive\\Documentos\\DataScience\\Ciencia de Datos en Python\\Tareas\\Tarea 02\\test>"
     ]
    },
    {
     "name": "stderr",
     "output_type": "stream",
     "text": [
      "Switched to branch 'Rama02'\n"
     ]
    }
   ],
   "source": [
    "%%cmd\n",
    "cd test\n",
    "git checkout Rama02"
   ]
  },
  {
   "cell_type": "code",
   "execution_count": 62,
   "metadata": {},
   "outputs": [
    {
     "name": "stdout",
     "output_type": "stream",
     "text": [
      "Microsoft Windows [Versi¢n 10.0.18362.1198]\r\n",
      "(c) 2019 Microsoft Corporation. Todos los derechos reservados.\r\n",
      "\r\n",
      "C:\\Users\\migcardona\\OneDrive\\Documentos\\DataScience\\Ciencia de Datos en Python\\Tareas\\Tarea 02>cd test\n",
      "\r\n",
      "C:\\Users\\migcardona\\OneDrive\\Documentos\\DataScience\\Ciencia de Datos en Python\\Tareas\\Tarea 02\\test>type testgit.txt\n",
      "Archivo de Test de GIT\r\n",
      "1. primer snapshot  snapshot con hash\r\n",
      "2. Segundo snapshot con hash, en master\r\n",
      "3. punto de control de branch snap 01-\r\n",
      "4. puunto de division de branch rama 01\r\n",
      "5. commit de Rama 02\r\n",
      "C:\\Users\\migcardona\\OneDrive\\Documentos\\DataScience\\Ciencia de Datos en Python\\Tareas\\Tarea 02\\test>git status\n",
      "On branch Rama02\n",
      "Changes not staged for commit:\n",
      "  (use \"git add <file>...\" to update what will be committed)\n",
      "  (use \"git restore <file>...\" to discard changes in working directory)\n",
      "\tmodified:   testgit.txt\n",
      "\n",
      "no changes added to commit (use \"git add\" and/or \"git commit -a\")\n",
      "\r\n",
      "C:\\Users\\migcardona\\OneDrive\\Documentos\\DataScience\\Ciencia de Datos en Python\\Tareas\\Tarea 02\\test>git add testgit.txt\n",
      "\r\n",
      "C:\\Users\\migcardona\\OneDrive\\Documentos\\DataScience\\Ciencia de Datos en Python\\Tareas\\Tarea 02\\test>git commit testgit.txt -m \"commit de rama 02\"\n",
      "[Rama02 8cecb81] commit de rama 02\n",
      " 1 file changed, 2 insertions(+), 1 deletion(-)\n",
      "\r\n",
      "C:\\Users\\migcardona\\OneDrive\\Documentos\\DataScience\\Ciencia de Datos en Python\\Tareas\\Tarea 02\\test>"
     ]
    }
   ],
   "source": [
    "%%cmd\n",
    "cd test\n",
    "type testgit.txt\n",
    "git status\n",
    "git add testgit.txt\n",
    "git commit testgit.txt -m \"commit de rama 02\""
   ]
  },
  {
   "cell_type": "code",
   "execution_count": 63,
   "metadata": {},
   "outputs": [
    {
     "name": "stdout",
     "output_type": "stream",
     "text": [
      "Microsoft Windows [Versi¢n 10.0.18362.1198]\r\n",
      "(c) 2019 Microsoft Corporation. Todos los derechos reservados.\r\n",
      "\r\n",
      "C:\\Users\\migcardona\\OneDrive\\Documentos\\DataScience\\Ciencia de Datos en Python\\Tareas\\Tarea 02>cd test\n",
      "\r\n",
      "C:\\Users\\migcardona\\OneDrive\\Documentos\\DataScience\\Ciencia de Datos en Python\\Tareas\\Tarea 02\\test>git log --all --graph --decorate\n",
      "* commit 8cecb8101d317aef8e3ebd82bdcf2103165e9c46 (HEAD -> Rama02)\n",
      "| Author: macde58 <78329506+macde58@users.noreply.github.com>\n",
      "| Date:   Wed Feb 10 18:37:07 2021 -0600\n",
      "| \n",
      "|     commit de rama 02\n",
      "| \n",
      "* commit ce0fbfebaeed81c1876eefd42ad0a89acf0512e3 (Rama01)\n",
      "| Author: macde58 <78329506+macde58@users.noreply.github.com>\n",
      "| Date:   Wed Feb 10 18:28:37 2021 -0600\n",
      "| \n",
      "|     snapshot de branch Rama01\n",
      "| \n",
      "* commit 4bba5bc74aaecdbb1dd35f0d0be5a6771ed7bb05 (snap01)\n",
      "| Author: macde58 <78329506+macde58@users.noreply.github.com>\n",
      "| Date:   Wed Feb 10 18:18:44 2021 -0600\n",
      "| \n",
      "|     commit de branch snap01\n",
      "| \n",
      "* commit 096c3bd26d99cc4c89db9465b2562cf8be19cc3c\n",
      "| Author: macde58 <78329506+macde58@users.noreply.github.com>\n",
      "| Date:   Wed Feb 10 18:17:14 2021 -0600\n",
      "| \n",
      "|     commit de branch snap01\n",
      "| \n",
      "* commit e323fd41f69248bd7720f633da3977af8d36671d (master, f3d9b958463c0744)\n",
      "| Author: macde58 <78329506+macde58@users.noreply.github.com>\n",
      "| Date:   Wed Feb 10 17:52:24 2021 -0600\n",
      "| \n",
      "|     2do snapshot con hash en master\n",
      "| \n",
      "* commit f3d9b958463c074481695ebdf0fb876704612f06\n",
      "  Author: macde58 <78329506+macde58@users.noreply.github.com>\n",
      "  Date:   Wed Feb 10 17:47:18 2021 -0600\n",
      "  \n",
      "      este es el primer snapshot con hash\n",
      "\r\n",
      "C:\\Users\\migcardona\\OneDrive\\Documentos\\DataScience\\Ciencia de Datos en Python\\Tareas\\Tarea 02\\test>"
     ]
    }
   ],
   "source": [
    "%%cmd\n",
    "cd test\n",
    "git log --all --graph --decorate"
   ]
  },
  {
   "cell_type": "markdown",
   "metadata": {},
   "source": [
    "### Paso:\n",
    "Mostramos el archivo con 5 puntos, hasta donde esta el commit rama02\n",
    "nos movemos al branch snap01 vemos que el HEAD ESTA EN EL SNAP01 y mostramos el archivo que podemos ver que solo hay 3 puntos enumerados. "
   ]
  },
  {
   "cell_type": "code",
   "execution_count": 66,
   "metadata": {},
   "outputs": [
    {
     "name": "stdout",
     "output_type": "stream",
     "text": [
      "Microsoft Windows [Versi¢n 10.0.18362.1198]\r\n",
      "(c) 2019 Microsoft Corporation. Todos los derechos reservados.\r\n",
      "\r\n",
      "C:\\Users\\migcardona\\OneDrive\\Documentos\\DataScience\\Ciencia de Datos en Python\\Tareas\\Tarea 02>cd test\n",
      "\r\n",
      "C:\\Users\\migcardona\\OneDrive\\Documentos\\DataScience\\Ciencia de Datos en Python\\Tareas\\Tarea 02\\test>type testgit.txt\n",
      "Archivo de Test de GIT\r\n",
      "1. primer snapshot  snapshot con hash\r\n",
      "2. Segundo snapshot con hash, en master\r\n",
      "3. punto de control de branch snap 01-\r\n",
      "4. puunto de division de branch rama 01\r\n",
      "5. commit de Rama 02\r\n",
      "C:\\Users\\migcardona\\OneDrive\\Documentos\\DataScience\\Ciencia de Datos en Python\\Tareas\\Tarea 02\\test>git checkout Snap01\n",
      "\r\n",
      "C:\\Users\\migcardona\\OneDrive\\Documentos\\DataScience\\Ciencia de Datos en Python\\Tareas\\Tarea 02\\test>git log --all --graph --decorate\n",
      "* commit 8cecb8101d317aef8e3ebd82bdcf2103165e9c46 (Rama02)\n",
      "| Author: macde58 <78329506+macde58@users.noreply.github.com>\n",
      "| Date:   Wed Feb 10 18:37:07 2021 -0600\n",
      "| \n",
      "|     commit de rama 02\n",
      "| \n",
      "* commit ce0fbfebaeed81c1876eefd42ad0a89acf0512e3 (Rama01)\n",
      "| Author: macde58 <78329506+macde58@users.noreply.github.com>\n",
      "| Date:   Wed Feb 10 18:28:37 2021 -0600\n",
      "| \n",
      "|     snapshot de branch Rama01\n",
      "| \n",
      "* commit 4bba5bc74aaecdbb1dd35f0d0be5a6771ed7bb05 (HEAD, snap01)\n",
      "| Author: macde58 <78329506+macde58@users.noreply.github.com>\n",
      "| Date:   Wed Feb 10 18:18:44 2021 -0600\n",
      "| \n",
      "|     commit de branch snap01\n",
      "| \n",
      "* commit 096c3bd26d99cc4c89db9465b2562cf8be19cc3c\n",
      "| Author: macde58 <78329506+macde58@users.noreply.github.com>\n",
      "| Date:   Wed Feb 10 18:17:14 2021 -0600\n",
      "| \n",
      "|     commit de branch snap01\n",
      "| \n",
      "* commit e323fd41f69248bd7720f633da3977af8d36671d (master, f3d9b958463c0744)\n",
      "| Author: macde58 <78329506+macde58@users.noreply.github.com>\n",
      "| Date:   Wed Feb 10 17:52:24 2021 -0600\n",
      "| \n",
      "|     2do snapshot con hash en master\n",
      "| \n",
      "* commit f3d9b958463c074481695ebdf0fb876704612f06\n",
      "  Author: macde58 <78329506+macde58@users.noreply.github.com>\n",
      "  Date:   Wed Feb 10 17:47:18 2021 -0600\n",
      "  \n",
      "      este es el primer snapshot con hash\n",
      "\r\n",
      "C:\\Users\\migcardona\\OneDrive\\Documentos\\DataScience\\Ciencia de Datos en Python\\Tareas\\Tarea 02\\test>type testgit.txt\n",
      "Archivo de Test de GIT\r\n",
      "1. primer snapshot  snapshot con hash\r\n",
      "2. Segundo snapshot con hash, en master\r\n",
      "3. punto de control de branch snap 01-\r\n",
      "C:\\Users\\migcardona\\OneDrive\\Documentos\\DataScience\\Ciencia de Datos en Python\\Tareas\\Tarea 02\\test>"
     ]
    },
    {
     "name": "stderr",
     "output_type": "stream",
     "text": [
      "Switched to branch 'Snap01'\n"
     ]
    }
   ],
   "source": [
    "%%cmd\n",
    "cd test\n",
    "type testgit.txt\n",
    "git checkout Snap01\n",
    "git log --all --graph --decorate\n",
    "type testgit.txt"
   ]
  },
  {
   "cell_type": "markdown",
   "metadata": {},
   "source": [
    "### Paso: \n",
    "Crearemos un branc nuevo , Rama 03\n",
    "y motraremos el tree con el branch Rama03"
   ]
  },
  {
   "cell_type": "code",
   "execution_count": 67,
   "metadata": {},
   "outputs": [
    {
     "name": "stdout",
     "output_type": "stream",
     "text": [
      "Microsoft Windows [Versi¢n 10.0.18362.1198]\r\n",
      "(c) 2019 Microsoft Corporation. Todos los derechos reservados.\r\n",
      "\r\n",
      "C:\\Users\\migcardona\\OneDrive\\Documentos\\DataScience\\Ciencia de Datos en Python\\Tareas\\Tarea 02>cd test\n",
      "\r\n",
      "C:\\Users\\migcardona\\OneDrive\\Documentos\\DataScience\\Ciencia de Datos en Python\\Tareas\\Tarea 02\\test>git branch Rama03\n",
      "\r\n",
      "C:\\Users\\migcardona\\OneDrive\\Documentos\\DataScience\\Ciencia de Datos en Python\\Tareas\\Tarea 02\\test>git checkout Rama03\n",
      "\r\n",
      "C:\\Users\\migcardona\\OneDrive\\Documentos\\DataScience\\Ciencia de Datos en Python\\Tareas\\Tarea 02\\test>"
     ]
    },
    {
     "name": "stderr",
     "output_type": "stream",
     "text": [
      "Switched to branch 'Rama03'\n"
     ]
    }
   ],
   "source": [
    "%%cmd\n",
    "cd test\n",
    "git branch Rama03\n",
    "git checkout Rama03\n"
   ]
  },
  {
   "cell_type": "code",
   "execution_count": 69,
   "metadata": {},
   "outputs": [
    {
     "name": "stdout",
     "output_type": "stream",
     "text": [
      "Microsoft Windows [Versi¢n 10.0.18362.1198]\r\n",
      "(c) 2019 Microsoft Corporation. Todos los derechos reservados.\r\n",
      "\r\n",
      "C:\\Users\\migcardona\\OneDrive\\Documentos\\DataScience\\Ciencia de Datos en Python\\Tareas\\Tarea 02>cd test\n",
      "\r\n",
      "C:\\Users\\migcardona\\OneDrive\\Documentos\\DataScience\\Ciencia de Datos en Python\\Tareas\\Tarea 02\\test>git log --all --graph --decorate\n",
      "* commit 8cecb8101d317aef8e3ebd82bdcf2103165e9c46 (Rama02)\n",
      "| Author: macde58 <78329506+macde58@users.noreply.github.com>\n",
      "| Date:   Wed Feb 10 18:37:07 2021 -0600\n",
      "| \n",
      "|     commit de rama 02\n",
      "| \n",
      "* commit ce0fbfebaeed81c1876eefd42ad0a89acf0512e3 (Rama01)\n",
      "| Author: macde58 <78329506+macde58@users.noreply.github.com>\n",
      "| Date:   Wed Feb 10 18:28:37 2021 -0600\n",
      "| \n",
      "|     snapshot de branch Rama01\n",
      "| \n",
      "* commit 4bba5bc74aaecdbb1dd35f0d0be5a6771ed7bb05 (HEAD -> Rama03, snap01)\n",
      "| Author: macde58 <78329506+macde58@users.noreply.github.com>\n",
      "| Date:   Wed Feb 10 18:18:44 2021 -0600\n",
      "| \n",
      "|     commit de branch snap01\n",
      "| \n",
      "* commit 096c3bd26d99cc4c89db9465b2562cf8be19cc3c\n",
      "| Author: macde58 <78329506+macde58@users.noreply.github.com>\n",
      "| Date:   Wed Feb 10 18:17:14 2021 -0600\n",
      "| \n",
      "|     commit de branch snap01\n",
      "| \n",
      "* commit e323fd41f69248bd7720f633da3977af8d36671d (master, f3d9b958463c0744)\n",
      "| Author: macde58 <78329506+macde58@users.noreply.github.com>\n",
      "| Date:   Wed Feb 10 17:52:24 2021 -0600\n",
      "| \n",
      "|     2do snapshot con hash en master\n",
      "| \n",
      "* commit f3d9b958463c074481695ebdf0fb876704612f06\n",
      "  Author: macde58 <78329506+macde58@users.noreply.github.com>\n",
      "  Date:   Wed Feb 10 17:47:18 2021 -0600\n",
      "  \n",
      "      este es el primer snapshot con hash\n",
      "\r\n",
      "C:\\Users\\migcardona\\OneDrive\\Documentos\\DataScience\\Ciencia de Datos en Python\\Tareas\\Tarea 02\\test>"
     ]
    }
   ],
   "source": [
    "%%cmd\n",
    "cd test\n",
    "git log --all --graph --decorate"
   ]
  },
  {
   "cell_type": "markdown",
   "metadata": {},
   "source": [
    "### Paso:\n",
    "agreamoemos el putno 6, \"Rama 03, apartir del Branch snap01\" al archivo de text, lo mostramos \n",
    "guardarmoes este commit con el punto 3\n",
    "mostraremos arbol y archivo, donde solo etaran los puntos 1,2,3,6"
   ]
  },
  {
   "cell_type": "code",
   "execution_count": 70,
   "metadata": {},
   "outputs": [
    {
     "name": "stdout",
     "output_type": "stream",
     "text": [
      "Microsoft Windows [Versi¢n 10.0.18362.1198]\r\n",
      "(c) 2019 Microsoft Corporation. Todos los derechos reservados.\r\n",
      "\r\n",
      "C:\\Users\\migcardona\\OneDrive\\Documentos\\DataScience\\Ciencia de Datos en Python\\Tareas\\Tarea 02>cd test\n",
      "\r\n",
      "C:\\Users\\migcardona\\OneDrive\\Documentos\\DataScience\\Ciencia de Datos en Python\\Tareas\\Tarea 02\\test>git status \n",
      "On branch Rama03\n",
      "Changes not staged for commit:\n",
      "  (use \"git add <file>...\" to update what will be committed)\n",
      "  (use \"git restore <file>...\" to discard changes in working directory)\n",
      "\tmodified:   testgit.txt\n",
      "\n",
      "no changes added to commit (use \"git add\" and/or \"git commit -a\")\n",
      "\r\n",
      "C:\\Users\\migcardona\\OneDrive\\Documentos\\DataScience\\Ciencia de Datos en Python\\Tareas\\Tarea 02\\test>git add testgit.txt\n",
      "\r\n",
      "C:\\Users\\migcardona\\OneDrive\\Documentos\\DataScience\\Ciencia de Datos en Python\\Tareas\\Tarea 02\\test>git commit testgit.txt -m \"rama 3, puntos 1,2,3,6\"\n",
      "[Rama03 97ce9a9] rama 3, puntos 1,2,3,6\n",
      " 1 file changed, 2 insertions(+), 1 deletion(-)\n",
      "\r\n",
      "C:\\Users\\migcardona\\OneDrive\\Documentos\\DataScience\\Ciencia de Datos en Python\\Tareas\\Tarea 02\\test>"
     ]
    }
   ],
   "source": [
    "%%cmd\n",
    "cd test\n",
    "git status \n",
    "git add testgit.txt\n",
    "git commit testgit.txt -m \"rama 3, puntos 1,2,3,6\""
   ]
  },
  {
   "cell_type": "markdown",
   "metadata": {},
   "source": [
    "### Paso:\n",
    "ahora vemos como Rama03 y Rama 01  salen del mismo branch llamado Snap01\n",
    "y veremos el archivo testgit.txt  con el putno 1,2,3,6"
   ]
  },
  {
   "cell_type": "code",
   "execution_count": 71,
   "metadata": {},
   "outputs": [
    {
     "name": "stdout",
     "output_type": "stream",
     "text": [
      "Microsoft Windows [Versi¢n 10.0.18362.1198]\r\n",
      "(c) 2019 Microsoft Corporation. Todos los derechos reservados.\r\n",
      "\r\n",
      "C:\\Users\\migcardona\\OneDrive\\Documentos\\DataScience\\Ciencia de Datos en Python\\Tareas\\Tarea 02>cd test\n",
      "\r\n",
      "C:\\Users\\migcardona\\OneDrive\\Documentos\\DataScience\\Ciencia de Datos en Python\\Tareas\\Tarea 02\\test>git log --all --graph --decorate\n",
      "* commit 97ce9a9a3cf1a38aac08fe56793a82bd334d5596 (HEAD -> Rama03)\n",
      "| Author: macde58 <78329506+macde58@users.noreply.github.com>\n",
      "| Date:   Wed Feb 10 18:51:51 2021 -0600\n",
      "| \n",
      "|     rama 3, puntos 1,2,3,6\n",
      "|   \n",
      "| * commit 8cecb8101d317aef8e3ebd82bdcf2103165e9c46 (Rama02)\n",
      "| | Author: macde58 <78329506+macde58@users.noreply.github.com>\n",
      "| | Date:   Wed Feb 10 18:37:07 2021 -0600\n",
      "| | \n",
      "| |     commit de rama 02\n",
      "| | \n",
      "| * commit ce0fbfebaeed81c1876eefd42ad0a89acf0512e3 (Rama01)\n",
      "|/  Author: macde58 <78329506+macde58@users.noreply.github.com>\n",
      "|   Date:   Wed Feb 10 18:28:37 2021 -0600\n",
      "|   \n",
      "|       snapshot de branch Rama01\n",
      "| \n",
      "* commit 4bba5bc74aaecdbb1dd35f0d0be5a6771ed7bb05 (snap01)\n",
      "| Author: macde58 <78329506+macde58@users.noreply.github.com>\n",
      "| Date:   Wed Feb 10 18:18:44 2021 -0600\n",
      "| \n",
      "|     commit de branch snap01\n",
      "| \n",
      "* commit 096c3bd26d99cc4c89db9465b2562cf8be19cc3c\n",
      "| Author: macde58 <78329506+macde58@users.noreply.github.com>\n",
      "| Date:   Wed Feb 10 18:17:14 2021 -0600\n",
      "| \n",
      "|     commit de branch snap01\n",
      "| \n",
      "* commit e323fd41f69248bd7720f633da3977af8d36671d (master, f3d9b958463c0744)\n",
      "| Author: macde58 <78329506+macde58@users.noreply.github.com>\n",
      "| Date:   Wed Feb 10 17:52:24 2021 -0600\n",
      "| \n",
      "|     2do snapshot con hash en master\n",
      "| \n",
      "* commit f3d9b958463c074481695ebdf0fb876704612f06\n",
      "  Author: macde58 <78329506+macde58@users.noreply.github.com>\n",
      "  Date:   Wed Feb 10 17:47:18 2021 -0600\n",
      "  \n",
      "      este es el primer snapshot con hash\n",
      "\r\n",
      "C:\\Users\\migcardona\\OneDrive\\Documentos\\DataScience\\Ciencia de Datos en Python\\Tareas\\Tarea 02\\test>type testgit.txt\n",
      "Archivo de Test de GIT\r\n",
      "1. primer snapshot  snapshot con hash\r\n",
      "2. Segundo snapshot con hash, en master\r\n",
      "3. punto de control de branch snap 01-\r\n",
      "6. Rama 03, apartir del Branch snap01\r\n",
      "C:\\Users\\migcardona\\OneDrive\\Documentos\\DataScience\\Ciencia de Datos en Python\\Tareas\\Tarea 02\\test>"
     ]
    }
   ],
   "source": [
    "%%cmd\n",
    "cd test\n",
    "git log --all --graph --decorate\n",
    "type testgit.txt"
   ]
  },
  {
   "cell_type": "markdown",
   "metadata": {},
   "source": [
    "### Paso:\n",
    "ahora nos moveremos entre Branches para ver los cambios que se muestran :\n",
    "    ahora mostraremos el archivo que tenemos en el bracn que estamos que es el Rama03 y luego nos movemos a Rama01 y mostramos el acrhivo ,  para ver que si cambia.\n",
    "    \n",
    "Viendo el tree veremos que el head esta en Rama01"
   ]
  },
  {
   "cell_type": "code",
   "execution_count": 72,
   "metadata": {},
   "outputs": [
    {
     "name": "stdout",
     "output_type": "stream",
     "text": [
      "Microsoft Windows [Versi¢n 10.0.18362.1198]\r\n",
      "(c) 2019 Microsoft Corporation. Todos los derechos reservados.\r\n",
      "\r\n",
      "C:\\Users\\migcardona\\OneDrive\\Documentos\\DataScience\\Ciencia de Datos en Python\\Tareas\\Tarea 02>cd test\n",
      "\r\n",
      "C:\\Users\\migcardona\\OneDrive\\Documentos\\DataScience\\Ciencia de Datos en Python\\Tareas\\Tarea 02\\test>type testgit.txt\n",
      "Archivo de Test de GIT\r\n",
      "1. primer snapshot  snapshot con hash\r\n",
      "2. Segundo snapshot con hash, en master\r\n",
      "3. punto de control de branch snap 01-\r\n",
      "6. Rama 03, apartir del Branch snap01\r\n",
      "C:\\Users\\migcardona\\OneDrive\\Documentos\\DataScience\\Ciencia de Datos en Python\\Tareas\\Tarea 02\\test>git checkout Rama01\n",
      "\r\n",
      "C:\\Users\\migcardona\\OneDrive\\Documentos\\DataScience\\Ciencia de Datos en Python\\Tareas\\Tarea 02\\test>type testgit.txt\n",
      "Archivo de Test de GIT\r\n",
      "1. primer snapshot  snapshot con hash\r\n",
      "2. Segundo snapshot con hash, en master\r\n",
      "3. punto de control de branch snap 01-\r\n",
      "4. puunto de division de branch rama 01\r\n",
      "C:\\Users\\migcardona\\OneDrive\\Documentos\\DataScience\\Ciencia de Datos en Python\\Tareas\\Tarea 02\\test>git log --all --graph --decorate\n",
      "* commit 97ce9a9a3cf1a38aac08fe56793a82bd334d5596 (Rama03)\n",
      "| Author: macde58 <78329506+macde58@users.noreply.github.com>\n",
      "| Date:   Wed Feb 10 18:51:51 2021 -0600\n",
      "| \n",
      "|     rama 3, puntos 1,2,3,6\n",
      "|   \n",
      "| * commit 8cecb8101d317aef8e3ebd82bdcf2103165e9c46 (Rama02)\n",
      "| | Author: macde58 <78329506+macde58@users.noreply.github.com>\n",
      "| | Date:   Wed Feb 10 18:37:07 2021 -0600\n",
      "| | \n",
      "| |     commit de rama 02\n",
      "| | \n",
      "| * commit ce0fbfebaeed81c1876eefd42ad0a89acf0512e3 (HEAD -> Rama01)\n",
      "|/  Author: macde58 <78329506+macde58@users.noreply.github.com>\n",
      "|   Date:   Wed Feb 10 18:28:37 2021 -0600\n",
      "|   \n",
      "|       snapshot de branch Rama01\n",
      "| \n",
      "* commit 4bba5bc74aaecdbb1dd35f0d0be5a6771ed7bb05 (snap01)\n",
      "| Author: macde58 <78329506+macde58@users.noreply.github.com>\n",
      "| Date:   Wed Feb 10 18:18:44 2021 -0600\n",
      "| \n",
      "|     commit de branch snap01\n",
      "| \n",
      "* commit 096c3bd26d99cc4c89db9465b2562cf8be19cc3c\n",
      "| Author: macde58 <78329506+macde58@users.noreply.github.com>\n",
      "| Date:   Wed Feb 10 18:17:14 2021 -0600\n",
      "| \n",
      "|     commit de branch snap01\n",
      "| \n",
      "* commit e323fd41f69248bd7720f633da3977af8d36671d (master, f3d9b958463c0744)\n",
      "| Author: macde58 <78329506+macde58@users.noreply.github.com>\n",
      "| Date:   Wed Feb 10 17:52:24 2021 -0600\n",
      "| \n",
      "|     2do snapshot con hash en master\n",
      "| \n",
      "* commit f3d9b958463c074481695ebdf0fb876704612f06\n",
      "  Author: macde58 <78329506+macde58@users.noreply.github.com>\n",
      "  Date:   Wed Feb 10 17:47:18 2021 -0600\n",
      "  \n",
      "      este es el primer snapshot con hash\n",
      "\r\n",
      "C:\\Users\\migcardona\\OneDrive\\Documentos\\DataScience\\Ciencia de Datos en Python\\Tareas\\Tarea 02\\test>"
     ]
    },
    {
     "name": "stderr",
     "output_type": "stream",
     "text": [
      "Switched to branch 'Rama01'\n"
     ]
    }
   ],
   "source": [
    "%%cmd\n",
    "cd test\n",
    "type testgit.txt\n",
    "git checkout Rama01\n",
    "type testgit.txt\n",
    "git log --all --graph --decorate"
   ]
  },
  {
   "cell_type": "markdown",
   "metadata": {},
   "source": [
    "# conclusion\n",
    "\n",
    "Aqui podemos ver como nos podemos mover entre los snapshots realizados, y asi tener un control sobre las versiones que usamos los archivos. "
   ]
  },
  {
   "cell_type": "markdown",
   "metadata": {},
   "source": [
    "# Agregramos que replique este archivo a github\n",
    "\n",
    "el link de la tarea es  https://github.com/macde58/Tarea02.git\n",
    "\n",
    "activaremos git en la carpeta donde eta este archivo de confiuracion llamado Tarea 02. y mostraremos el directorio \n",
    "\n",
    "agregaremos el origen llamado Tarea2Local"
   ]
  },
  {
   "cell_type": "code",
   "execution_count": 73,
   "metadata": {},
   "outputs": [
    {
     "name": "stdout",
     "output_type": "stream",
     "text": [
      "Microsoft Windows [Versi¢n 10.0.18362.1198]\r\n",
      "(c) 2019 Microsoft Corporation. Todos los derechos reservados.\r\n",
      "\r\n",
      "C:\\Users\\migcardona\\OneDrive\\Documentos\\DataScience\\Ciencia de Datos en Python\\Tareas\\Tarea 02>dir\n",
      " El volumen de la unidad C no tiene etiqueta.\r\n",
      " El n£mero de serie del volumen es: AEC1-5CF3\r\n",
      "\r\n",
      " Directorio de C:\\Users\\migcardona\\OneDrive\\Documentos\\DataScience\\Ciencia de Datos en Python\\Tareas\\Tarea 02\r\n",
      "\r\n",
      "10/02/2021  19:13    <DIR>          .\r\n",
      "10/02/2021  19:13    <DIR>          ..\r\n",
      "10/02/2021  17:02    <DIR>          .ipynb_checkpoints\r\n",
      "10/02/2021  19:13            61 683 Tarea 02.ipynb\r\n",
      "10/02/2021  18:59    <DIR>          test\r\n",
      "               1 archivos         61 683 bytes\r\n",
      "               4 dirs  27 485 892 608 bytes libres\r\n",
      "\r\n",
      "C:\\Users\\migcardona\\OneDrive\\Documentos\\DataScience\\Ciencia de Datos en Python\\Tareas\\Tarea 02>git init \n",
      "Reinitialized existing Git repository in C:/Users/migcardona/OneDrive/Documentos/DataScience/Ciencia de Datos en Python/Tareas/Tarea 02/.git/\n",
      "\r\n",
      "C:\\Users\\migcardona\\OneDrive\\Documentos\\DataScience\\Ciencia de Datos en Python\\Tareas\\Tarea 02>git checkout -b EnvioGithub\n",
      "\r\n",
      "C:\\Users\\migcardona\\OneDrive\\Documentos\\DataScience\\Ciencia de Datos en Python\\Tareas\\Tarea 02>git log --all --graph --decorate\n",
      "\r\n",
      "C:\\Users\\migcardona\\OneDrive\\Documentos\\DataScience\\Ciencia de Datos en Python\\Tareas\\Tarea 02>"
     ]
    },
    {
     "name": "stderr",
     "output_type": "stream",
     "text": [
      "Switched to a new branch 'EnvioGithub'\n"
     ]
    }
   ],
   "source": [
    "%%cmd \n",
    "dir\n",
    "git init \n",
    "git checkout -b EnvioGithub\n",
    "git log --all --graph --decorate"
   ]
  },
  {
   "cell_type": "markdown",
   "metadata": {},
   "source": [
    "### Paso::\n",
    "ahora agregaremos el archio tarea02.ipynb al commit"
   ]
  },
  {
   "cell_type": "code",
   "execution_count": 83,
   "metadata": {},
   "outputs": [
    {
     "name": "stdout",
     "output_type": "stream",
     "text": [
      "Microsoft Windows [Versi¢n 10.0.18362.1198]\r\n",
      "(c) 2019 Microsoft Corporation. Todos los derechos reservados.\r\n",
      "\r\n",
      "C:\\Users\\migcardona\\OneDrive\\Documentos\\DataScience\\Ciencia de Datos en Python\\Tareas\\Tarea 02>git add Tarea02.ipynb\n",
      "\r\n",
      "C:\\Users\\migcardona\\OneDrive\\Documentos\\DataScience\\Ciencia de Datos en Python\\Tareas\\Tarea 02>git commit Tarea02.ipynb -m \"antes de envio a github\"\n",
      "[EnvioGithub d4f477a] antes de envio a github\n",
      " 1 file changed, 103 insertions(+), 7 deletions(-)\n",
      "\r\n",
      "C:\\Users\\migcardona\\OneDrive\\Documentos\\DataScience\\Ciencia de Datos en Python\\Tareas\\Tarea 02>"
     ]
    },
    {
     "name": "stderr",
     "output_type": "stream",
     "text": [
      "warning: LF will be replaced by CRLF in Tarea02.ipynb.\n",
      "The file will have its original line endings in your working directory\n",
      "warning: LF will be replaced by CRLF in Tarea02.ipynb.\n",
      "The file will have its original line endings in your working directory\n"
     ]
    }
   ],
   "source": [
    "%%cmd \n",
    "git add Tarea02.ipynb\n",
    "git commit Tarea02.ipynb -m \"antes de envio a github\""
   ]
  },
  {
   "cell_type": "code",
   "execution_count": 80,
   "metadata": {},
   "outputs": [
    {
     "name": "stdout",
     "output_type": "stream",
     "text": [
      "Microsoft Windows [Versi¢n 10.0.18362.1198]\r\n",
      "(c) 2019 Microsoft Corporation. Todos los derechos reservados.\r\n",
      "\r\n",
      "C:\\Users\\migcardona\\OneDrive\\Documentos\\DataScience\\Ciencia de Datos en Python\\Tareas\\Tarea 02>git log --all --graph --decorate\n",
      "* commit 62874746284c84605e86a4d8b65eb3b1a65f623a (HEAD -> EnvioGithub)\n",
      "  Author: macde58 <78329506+macde58@users.noreply.github.com>\n",
      "  Date:   Wed Feb 10 19:16:44 2021 -0600\n",
      "  \n",
      "      antes de envio a github\n",
      "\r\n",
      "C:\\Users\\migcardona\\OneDrive\\Documentos\\DataScience\\Ciencia de Datos en Python\\Tareas\\Tarea 02>"
     ]
    }
   ],
   "source": [
    "%%cmd\n",
    "git log --all --graph --decorate\n"
   ]
  },
  {
   "cell_type": "raw",
   "metadata": {},
   "source": [
    "aqui agremoamos el remote llamado \"archivoLocal\" "
   ]
  },
  {
   "cell_type": "code",
   "execution_count": 81,
   "metadata": {},
   "outputs": [
    {
     "name": "stdout",
     "output_type": "stream",
     "text": [
      "Microsoft Windows [Versi¢n 10.0.18362.1198]\r\n",
      "(c) 2019 Microsoft Corporation. Todos los derechos reservados.\r\n",
      "\r\n",
      "C:\\Users\\migcardona\\OneDrive\\Documentos\\DataScience\\Ciencia de Datos en Python\\Tareas\\Tarea 02>git remote add archivoLocal https://github.com/macde58/Tarea02.git\n",
      "\r\n",
      "C:\\Users\\migcardona\\OneDrive\\Documentos\\DataScience\\Ciencia de Datos en Python\\Tareas\\Tarea 02>"
     ]
    }
   ],
   "source": [
    "%%cmd\n",
    "git remote add archivoLocal https://github.com/macde58/Tarea02.git"
   ]
  },
  {
   "cell_type": "markdown",
   "metadata": {},
   "source": [
    "ahora hacmos el push"
   ]
  },
  {
   "cell_type": "code",
   "execution_count": 84,
   "metadata": {
    "scrolled": true
   },
   "outputs": [
    {
     "name": "stdout",
     "output_type": "stream",
     "text": [
      "Microsoft Windows [Versi¢n 10.0.18362.1198]\r\n",
      "(c) 2019 Microsoft Corporation. Todos los derechos reservados.\r\n",
      "\r\n",
      "C:\\Users\\migcardona\\OneDrive\\Documentos\\DataScience\\Ciencia de Datos en Python\\Tareas\\Tarea 02>git push archivoLocal EnvioGithub:Tarea02\n",
      "\r\n",
      "C:\\Users\\migcardona\\OneDrive\\Documentos\\DataScience\\Ciencia de Datos en Python\\Tareas\\Tarea 02>"
     ]
    },
    {
     "name": "stderr",
     "output_type": "stream",
     "text": [
      "To https://github.com/macde58/Tarea02.git\n",
      "   6287474..d4f477a  EnvioGithub -> Tarea02\n"
     ]
    }
   ],
   "source": [
    "%%cmd\n",
    "git push archivoLocal EnvioGithub:Tarea02\n"
   ]
  },
  {
   "cell_type": "code",
   "execution_count": null,
   "metadata": {},
   "outputs": [],
   "source": []
  }
 ],
 "metadata": {
  "kernelspec": {
   "display_name": "Python 3",
   "language": "python",
   "name": "python3"
  },
  "language_info": {
   "codemirror_mode": {
    "name": "ipython",
    "version": 3
   },
   "file_extension": ".py",
   "mimetype": "text/x-python",
   "name": "python",
   "nbconvert_exporter": "python",
   "pygments_lexer": "ipython3",
   "version": "3.8.5"
  }
 },
 "nbformat": 4,
 "nbformat_minor": 4
}
